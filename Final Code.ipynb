{
 "cells": [
  {
   "cell_type": "markdown",
   "metadata": {},
   "source": [
    "# Pattern Recognition Final Project\n",
    "\n",
    "#### Ahmed Mahmoud Fawzi                        ID:1170523\n",
    "#### Amira Ahmed Adel                                 ID:1170400  \n",
    "#### Mohammed Ahmed Abd El-Monem      ID:1170232"
   ]
  },
  {
   "cell_type": "code",
   "execution_count": 1,
   "metadata": {
    "id": "GBuOmeD9VhFG"
   },
   "outputs": [],
   "source": [
    "import os\n",
    "import sys\n",
    "import cv2 \n",
    "import matplotlib.pyplot as plt\n",
    "from os import listdir\n",
    "import csv\n",
    "from PIL import Image as PImage\n",
    "from sklearn.cluster import KMeans\n",
    "import numpy as np\n",
    "from keras.layers import Activation\n",
    "from keras import optimizers\n",
    "import random\n",
    "import tensorflow as tf\n",
    "import matplotlib.pyplot as pyplot\n",
    "import pandas as pd\n",
    "from tensorflow.keras.callbacks import EarlyStopping\n",
    "from tensorflow.keras.layers import Conv2D\n",
    "from tensorflow.keras.layers import Dense,MaxPool2D,Flatten,Dropout\n",
    "from tensorflow.keras.models import Sequential\n",
    "from numpy import asarray\n",
    "from sklearn.model_selection import train_test_split\n",
    "from tensorflow.keras import layers\n",
    "from tensorflow import keras\n",
    "from keras.utils import np_utils\n",
    "from keras.models import Sequential\n",
    "from keras.regularizers import l2\n",
    "import argparse\n",
    "from keras.layers.convolutional import Convolution2D, MaxPooling2D ,Conv2D,ZeroPadding2D\n",
    "from keras.layers.normalization import BatchNormalization\n",
    "from keras.layers.core import Dense, Dropout, Activation, Flatten\n",
    "from tensorflow.keras.optimizers import RMSprop\n",
    "from keras.optimizers import Adam\n",
    "from keras.optimizers import SGD\n",
    "from sklearn.utils import shuffle\n",
    "import os\n",
    "from numpy import expand_dims\n",
    "from keras.preprocessing.image import load_img\n",
    "from keras.preprocessing.image import img_to_array\n",
    "from keras.preprocessing.image import ImageDataGenerator\n",
    "from matplotlib import pyplot\n",
    "from sklearn.metrics import accuracy_score\n",
    "from sklearn.metrics import recall_score\n",
    "from sklearn.metrics import precision_score\n",
    "from sklearn.metrics import f1_score\n",
    "from sklearn.metrics import mean_squared_error\n",
    "from sklearn.metrics import mean_absolute_error\n",
    "from keras.callbacks import ReduceLROnPlateau\n",
    "from sklearn.metrics import confusion_matrix\n"
   ]
  },
  {
   "cell_type": "code",
   "execution_count": 2,
   "metadata": {
    "colab": {
     "base_uri": "https://localhost:8080/"
    },
    "id": "ILUZnjk7WjhP",
    "outputId": "bda64359-a7b6-440b-efb1-bf42c00fc392"
   },
   "outputs": [
    {
     "name": "stdout",
     "output_type": "stream",
     "text": [
      "Mounted at /content/drive\n"
     ]
    }
   ],
   "source": [
    "from google.colab import drive\n",
    "drive.mount('/content/drive')"
   ]
  },
  {
   "cell_type": "markdown",
   "metadata": {
    "id": "9tn97snAVhFH"
   },
   "source": [
    "\n",
    "\n",
    " # Functions Definition \n",
    "\n",
    "\n"
   ]
  },
  {
   "cell_type": "markdown",
   "metadata": {
    "id": "7LJ7avLXVhFH"
   },
   "source": [
    "#### Load Paths"
   ]
  },
  {
   "cell_type": "code",
   "execution_count": null,
   "metadata": {
    "id": "MStuAPOaVhFI"
   },
   "outputs": [],
   "source": [
    "# this function serves to load the paths for the .jpg images in the folder\n",
    "def load_paths(Y_data):\n",
    "    PatternPath ='/Users/modyf/Desktop/Pattern Final/DataSet/'\n",
    "    filesJPG = []  # create an empty list\n",
    "    for dirName, subdirList, fileList in os.walk(PatternPath):\n",
    "        namedir=None\n",
    "        for filename in fileList:\n",
    "            Y_data.append(os.path.basename(os.path.normpath(dirName)))\n",
    "            if \".jpg\" in filename.lower():  \n",
    "                namedir=[os.path.splitext(filename)[0],os.path.join(dirName,filename)]\n",
    "                filesJPG.append(namedir)\n",
    "    #return an array containing the paths\n",
    "    return filesJPG"
   ]
  },
  {
   "cell_type": "markdown",
   "metadata": {
    "id": "K7VrHjBKVhFI"
   },
   "source": [
    "#### Read Iamges"
   ]
  },
  {
   "cell_type": "code",
   "execution_count": null,
   "metadata": {
    "id": "tL5h9prJVhFI"
   },
   "outputs": [],
   "source": [
    "# this function reads all the images from the given array of paths it reads the images and sets  them in an array X_data\n",
    "def Read(filenameDCM):\n",
    "    \n",
    "    # a temp loaded picture so that we could intialize the tyoe of the array we are creating and the size\n",
    "    temp = cv2.imread(filenameDCM[0][1])\n",
    "    temp = cv2.cvtColor(temp, cv2.COLOR_BGR2RGB)\n",
    "    x=300\n",
    "    y=300\n",
    "    z=3\n",
    "    ConstPixelDims = (x, y,z, len(filenameDCM))\n",
    "    images=[]\n",
    "    dim = (x, y)\n",
    "    # itializing the X_Data array\n",
    "    X_data = np.zeros(len(filenameDCM)*x*y*z,dtype=temp.dtype)\n",
    "    print(temp.dtype)\n",
    "    # reshaping the X_data array to be (totalpicsize,300,300,3)\n",
    "    X_data=np.reshape(X_data,(len(filenameDCM),x,y,z))\n",
    "    # a temp array created to load pics\n",
    "    new_array = np.zeros(ConstPixelDims, dtype=temp.dtype)\n",
    "    # Loop across all the paths and then read the imamges\n",
    "    for i in range(len(filenameDCM)):\n",
    "        # Read the Image\n",
    "        img = cv2.imread(filenameDCM[i][1])\n",
    "        img = cv2.cvtColor(img, cv2.COLOR_BGR2RGB)\n",
    "        # Resize all immages to a fixed size 300*300\n",
    "        img=cv2.resize(img, dim, interpolation = cv2.INTER_AREA)\n",
    "        new_array[:, :,:, i] = img\n",
    "        X_data[i] = new_array[:,:,:,i]\n",
    "    # return the X_Data array\n",
    "    return X_data "
   ]
  },
  {
   "cell_type": "markdown",
   "metadata": {
    "id": "mpZA8CFQVhFJ"
   },
   "source": [
    "#### Augment Images Function"
   ]
  },
  {
   "cell_type": "code",
   "execution_count": null,
   "metadata": {
    "id": "jyWrsELxVhFJ"
   },
   "outputs": [],
   "source": [
    "# This function serves to make Audmentation for the Images to increase the dataset\n",
    "def AugmentImages_Save(X_data):\n",
    "    # an array with the current size of data iamges\n",
    "    arr=[128,98,91,107,99,100,88,114,200,86,239]\n",
    "    c=0\n",
    "    k=0\n",
    "    c=arr[k]\n",
    "    ind=c\n",
    "    os.mkdir(str(ind))\n",
    "    check=0\n",
    "    # loop accross the all the images in X_data array we created\n",
    "    for j,data in enumerate(X_data):\n",
    "        #  if we reached the same number as the current size of images in the arr ( this means we have looped accross all images of category 1 for exampel)\n",
    "        if check==arr[k]:\n",
    "            k+=1\n",
    "            # reupdate the c so that we could rename images automaticaly\n",
    "            c=arr[k]\n",
    "            ind=c\n",
    "            # create a directory for the new category images\n",
    "            os.mkdir(str(ind))\n",
    "            check=0        \n",
    "        # for this part we create an image with different brightness from the passed image\n",
    "        samples = expand_dims(data, 0)\n",
    "        datagen = ImageDataGenerator(brightness_range=[0.6,1.5])\n",
    "        it = datagen.flow(samples, batch_size=2)\n",
    "        for i in range(1):\n",
    "\n",
    "            batch = it.next()\n",
    "            image = batch[0].astype('uint8')\n",
    "            # save the new image\n",
    "            c=c+1\n",
    "            num=\"%04d\" % (c)\n",
    "            cv2.imwrite(str(ind)+\"/image_\"+num.strip()+\".jpg\", image)\n",
    "            \n",
    "        # for this part we create a new rotated image different from the passed image\n",
    "        datagen = ImageDataGenerator(rotation_range=45)\n",
    "        it = datagen.flow(samples, batch_size=1)\n",
    "        for i in range(1):\n",
    "\n",
    "            batch = it.next()\n",
    "            image = batch[0].astype('uint8')\n",
    "            # save the new image\n",
    "            c=c+1\n",
    "            num=\"%04d\" % (c)\n",
    "            cv2.imwrite(str(ind)+\"/image_\"+num.strip()+\".jpg\", image)\n",
    "\n",
    "        # for this part we create a new flipped image different from the passed image\n",
    "        datagen = ImageDataGenerator(horizontal_flip=True)\n",
    "        it = datagen.flow(samples, batch_size=1)\n",
    "        for i in range(1):\n",
    "            batch = it.next()\n",
    "            image = batch[0].astype('uint8')\n",
    "            # save the new image\n",
    "            c=c+1\n",
    "            num=\"%04d\" % (c)\n",
    "            cv2.imwrite(str(ind)+\"/image_\"+num.strip()+\".jpg\", image)\n",
    "        check+=1 "
   ]
  },
  {
   "cell_type": "markdown",
   "metadata": {
    "id": "EQDT8UGQVhFK"
   },
   "source": [
    "#### Normalize Function"
   ]
  },
  {
   "cell_type": "code",
   "execution_count": null,
   "metadata": {
    "id": "_loaE8mfVhFK"
   },
   "outputs": [],
   "source": [
    "# Normalize the Data Function we normalize the data to be in range 0-1 as the min x is 0 and the max is 255 so we divide all elements\n",
    "# by 255 making the range 0-1\n",
    "def NormalizeData(X):\n",
    "    print(\"X min Before:\", np.min(X))\n",
    "    print(\"X max Before:\", np.max(X))\n",
    "    X = X.astype('float32')\n",
    "    X /= 255\n",
    "    print(\"X min After:\", np.min(X))\n",
    "    print(\"X max After:\", np.max(X))\n",
    "    return X"
   ]
  },
  {
   "cell_type": "markdown",
   "metadata": {
    "id": "I_GS2a8vVhFL"
   },
   "source": [
    "#### Transform Labels Function"
   ]
  },
  {
   "cell_type": "code",
   "execution_count": 18,
   "metadata": {
    "id": "DNACgT_mVhFL"
   },
   "outputs": [],
   "source": [
    "# this function serves to transform the class labels to 0,1,3,4,5,6,7,8,9,10\n",
    "def TransformLabels(Y_data):\n",
    "    for i in range(len(Y_data)):\n",
    "        if Y_data[i]==\"bonsai\":\n",
    "            Y_data[i]=0\n",
    "        elif Y_data[i]==\"brain\":\n",
    "            Y_data[i]=1\n",
    "        elif Y_data[i]==\"butterfly\":\n",
    "            Y_data[i]=2\n",
    "        elif Y_data[i]==\"chandelier\":\n",
    "            Y_data[i]=3\n",
    "        elif Y_data[i]==\"grand_piano\":\n",
    "            Y_data[i]=4\n",
    "        elif Y_data[i]==\"hawksbill\":\n",
    "            Y_data[i]=5\n",
    "        elif Y_data[i]==\"helicopter\":\n",
    "            Y_data[i]=6\n",
    "        elif Y_data[i]==\"ketch\":\n",
    "            Y_data[i]=7\n",
    "        elif Y_data[i]==\"Leopards\":\n",
    "            Y_data[i]=8\n",
    "        elif Y_data[i]==\"starfish\":\n",
    "            Y_data[i]=9\n",
    "        elif Y_data[i]==\"watch\":\n",
    "            Y_data[i]=10"
   ]
  },
  {
   "cell_type": "markdown",
   "metadata": {
    "id": "-SQq9_57VhFL"
   },
   "source": [
    "#### Shuffle Fucntion"
   ]
  },
  {
   "cell_type": "code",
   "execution_count": null,
   "metadata": {
    "id": "EC7MoOUMVhFL"
   },
   "outputs": [],
   "source": [
    "# This functions serves to shuffle your data if needed as the computational cost is high if every time a new split for the X_data is done\n",
    "# so if we have all the X_train,Y_train,X_test,Y_test,X_val,Y_val data saved already we just load them and call this fucntion \n",
    "def Reshuffle(X_train,Y_train,X_test,Y_test,X_val,Y_val):\n",
    "    # Shuffle the data and then returning them \n",
    "    X_train,Y_train = shuffle(X_train, Y_train)\n",
    "    X_test,Y_test = shuffle(X_test, Y_test)\n",
    "    X_val,Y_val = shuffle(X_val, Y_val)\n",
    "    return X_train,Y_train,X_test,Y_test,X_val,Y_val"
   ]
  },
  {
   "cell_type": "markdown",
   "metadata": {
    "id": "2aOFhFPHVhFM"
   },
   "source": [
    "#### Graph Diagnostics Function"
   ]
  },
  {
   "cell_type": "code",
   "execution_count": 76,
   "metadata": {
    "id": "UUzzDhfIVhFM"
   },
   "outputs": [],
   "source": [
    "# This Function save 2 graphs for Cross Entropy Loss and for Classification Accuracy\n",
    "def Graph_diagnostics(history):\n",
    "    # Cross Entropy Loss\n",
    "    pyplot.subplot(311)\n",
    "    pyplot.title('Cross Entropy Loss')\n",
    "    pyplot.plot(history.history['loss'], color='blue', label='train')\n",
    "    pyplot.plot(history.history['val_loss'], color='orange', label='test')\n",
    "    filename = sys.argv[0].split('/')[-1]\n",
    "    pyplot.savefig(filename +\"1\" '_plot.png')\n",
    "    #Classification Accuracy\n",
    "    pyplot.subplot(313)\n",
    "    pyplot.title('Classification Accuracy')\n",
    "    pyplot.plot(history.history['accuracy'], color='blue', label='train')\n",
    "    pyplot.plot(history.history['val_accuracy'], color='orange', label='test')\n",
    "    # save plot to file\n",
    "    filename = sys.argv[0].split('/')[-1]\n",
    "    pyplot.savefig(filename +\"2\" '_plot.png')\n"
   ]
  },
  {
   "cell_type": "markdown",
   "metadata": {
    "id": "MIJ7MZMJi7nS"
   },
   "source": [
    "#### Show and Predict Function"
   ]
  },
  {
   "cell_type": "code",
   "execution_count": 45,
   "metadata": {
    "id": "s2cbvJGXhR7X"
   },
   "outputs": [],
   "source": [
    "# This function serves to predict the passed X_test image and then shows and print the prediction\n",
    "def Show_and_Predict(X_test):\n",
    "    labels_dic = {\n",
    "            0: \"Bonsai\",\n",
    "            1: \"Brain\",\n",
    "            2: \"Butterfly\",\n",
    "            3: \"Chandelier\",\n",
    "            4: \"Grand Piano\",\n",
    "            5: \"Hawks Bill\",\n",
    "            6: \"Helicopter\",\n",
    "            7: \"Ketch\",\n",
    "            8: \"Leaopards\",\n",
    "            9: \"Starfish\",\n",
    "            10: \"Watch\",\n",
    "        }\n",
    "    X_pred=np.reshape(X_test,(1, X_test.shape[0], X_test.shape[1], 3))\n",
    "    ypred=model.predict(X_pred)\n",
    "    y_pred=np.argmax(ypred, axis = 1)\n",
    "    plt.imshow(X_test)\n",
    "    print(labels_dic[int(y_pred)])"
   ]
  },
  {
   "cell_type": "markdown",
   "metadata": {
    "id": "P9zRGHEeVhFM"
   },
   "source": [
    "#### Print Statistics Function"
   ]
  },
  {
   "cell_type": "code",
   "execution_count": 22,
   "metadata": {
    "id": "IIKwruJLVhFM"
   },
   "outputs": [],
   "source": [
    "# This Function Prints the Statitics of the model\n",
    "def Statistics(Y_test_,y_pred):\n",
    "    labels_dic = {\n",
    "            0: \"Bonsai\",\n",
    "            1: \"Brain\",\n",
    "            2: \"Butterfly\",\n",
    "            3: \"Chandelier\",\n",
    "            4: \"Grand Piano\",\n",
    "            5: \"Hawks Bill\",\n",
    "            6: \"Helicopter\",\n",
    "            7: \"Ketch\",\n",
    "            8: \"Leaopards\",\n",
    "            9: \"Starfish\",\n",
    "            10: \"Watch\",\n",
    "        }\n",
    "    ## Print the Accuracy Score \n",
    "    print(\"Classification Accuracy Score: \", accuracy_score(Y_test_, y_pred))\n",
    "    print(\"---\")\n",
    "    ## Print the Recall of the classes \n",
    "    recall_of_classes = (recall_score(Y_test_, y_pred, average=None))\n",
    "    for index, recall in enumerate(recall_of_classes):\n",
    "        print(\"Recall of {}:\".format(labels_dic[index]), recall)\n",
    "\n",
    "\n",
    "    print(\"---\")\n",
    "    ## Print the Precision of the classes \n",
    "    precision_of_classes = (precision_score(Y_test_, y_pred, average=None))\n",
    "    for index, perc in enumerate(precision_of_classes):\n",
    "        print(\"Precison of {}:\".format(labels_dic[index]), perc)\n",
    "\n",
    "    print(\"---\")\n",
    "    ## Print the F1 of the classes \n",
    "    f1_of_classes = (f1_score(Y_test_, y_pred, average=None))\n",
    "    for index, f1 in enumerate(f1_of_classes):\n",
    "        print(\"F1 of {}:\".format(labels_dic[index]), f1)\n",
    "    print(\"---\")\n",
    "    ## Print the Mean Squared Error \n",
    "    mse=mean_squared_error(Y_test_, y_pred)\n",
    "    print(\"Mean_Squared_Error:\", mse)\n",
    "    \n",
    "    print(\"---\")\n",
    "    \n",
    "    ## Print the Mean Absolute Error \n",
    "    mae=mean_absolute_error(Y_test_, y_pred)\n",
    "    print(\"Mean_Absolute_Error: \", mae)\n",
    "    \n",
    "    print(\"---\")\n",
    "    \n",
    "    \n",
    "    # Get the confusion matrix\n",
    "    cm = confusion_matrix(Y_test_, y_pred)\n",
    "\n",
    "    # We will store the results in a dictionary for easy access later\n",
    "    per_class_accuracies = {}\n",
    "\n",
    "    # Calculate the accuracy for each one of our classes\n",
    "    for idx, cls in enumerate([0, 1, 2, 3, 4, 5, 6, 7, 8, 9, 10]):\n",
    "        # True negatives are all the samples that are not our current GT class (not the current row) \n",
    "        # and were not predicted as the current class (not the current column)\n",
    "        true_negatives = np.sum(np.delete(np.delete(cm, idx, axis=0), idx, axis=1))\n",
    "\n",
    "        # True positives are all the samples of our current GT class that were predicted as such\n",
    "        true_positives = cm[idx, idx]\n",
    "\n",
    "        # The accuracy for the current class is ratio between correct predictions to all predictions\n",
    "        per_class_accuracies[cls] = (true_positives + true_negatives) / np.sum(cm)\n",
    "    key_list = [\"Bonsai\", \"Brain\", \"Butterfly\", \"Chandelier\", \"Grand Piano\", \"Hawks Bill\", \"Helicopter\", \"Ketch\", \"Leaopards\", \"Starfish\", \"Watch\"]\n",
    "    val_list = list(per_class_accuracies.values())\n",
    "    dictionary = dict(zip(key_list, val_list))\n",
    "    for index, accuracy in enumerate(val_list):\n",
    "        print(\"Accuracy of {}:\".format(key_list[index]), accuracy)\n",
    "            \n",
    "    print(\"---\")\n",
    "\n"
   ]
  },
  {
   "cell_type": "markdown",
   "metadata": {
    "id": "WpJKpxbrVhFN"
   },
   "source": [
    "***\n",
    "\n",
    "# Pre-Processing Data\n",
    "\n",
    "***"
   ]
  },
  {
   "cell_type": "markdown",
   "metadata": {
    "id": "l2HU6036VhFN"
   },
   "source": [
    "#### Load , Read Images , and Save X_Data array to save time later "
   ]
  },
  {
   "cell_type": "code",
   "execution_count": null,
   "metadata": {
    "id": "pnmf_WEqVhFN"
   },
   "outputs": [],
   "source": [
    "Y_data=[]\n",
    "filesJPG=load_paths(Y_data)\n",
    "TransformLabels(Y_data)\n",
    "Y_data=np.asarray(Y_data)\n",
    "X_data=Read(filesJPG)\n",
    "AugmentImages_Save(X_data)\n",
    "filesJPG=load_paths()\n",
    "X_data=Read(filesJPG)\n",
    "np.save('X_data',X_data,allow_pickle=False,fix_imports=False)\n",
    "np.save('Y_data',Y_data,allow_pickle=False,fix_imports=False)\n",
    "X_data=[]\n",
    "Y_data=[]"
   ]
  },
  {
   "cell_type": "markdown",
   "metadata": {
    "id": "DoDMArxjVhFN"
   },
   "source": [
    "#### Load X_data and Y_data from the saved .npy files"
   ]
  },
  {
   "cell_type": "code",
   "execution_count": null,
   "metadata": {
    "id": "2UsvTxZUVhFO"
   },
   "outputs": [],
   "source": [
    "X_data = np.load('X_data.npy', mmap_mode='r')\n",
    "Y = np.load('Y_data.npy', mmap_mode='r')\n",
    "Y=Y.reshape(-1,1)"
   ]
  },
  {
   "cell_type": "markdown",
   "metadata": {
    "id": "sixtftE5VhFO"
   },
   "source": [
    "#### Normalizing the X_data"
   ]
  },
  {
   "cell_type": "code",
   "execution_count": null,
   "metadata": {
    "id": "TcQAKhdOVhFO"
   },
   "outputs": [],
   "source": [
    "X=NormalizeData(X_data)"
   ]
  },
  {
   "cell_type": "markdown",
   "metadata": {
    "id": "2VbjxhjCVhFO"
   },
   "source": [
    "#### Splitting the X_data and Y_data into X_train,Y_train,X_test,Y_test,X_val,Y_val"
   ]
  },
  {
   "cell_type": "code",
   "execution_count": null,
   "metadata": {
    "id": "R_t7j_FzVhFO"
   },
   "outputs": [],
   "source": [
    "X_train, X_test, Y_train, Y_test = train_test_split(X, Y, test_size=0.30,shuffle=True)\n",
    "X_test, X_val, Y_test,Y_val = train_test_split(X_test, Y_test, test_size=0.50,shuffle=True) "
   ]
  },
  {
   "cell_type": "markdown",
   "metadata": {
    "id": "pJqmIc_JVhFO"
   },
   "source": [
    "#### Making One-Hot encoding for the Labels"
   ]
  },
  {
   "cell_type": "code",
   "execution_count": null,
   "metadata": {
    "id": "TZ8-LTYWVhFO"
   },
   "outputs": [],
   "source": [
    "Y_train = np_utils.to_categorical(Y_train)\n",
    "Y_test = np_utils.to_categorical(Y_test)\n",
    "Y_val= np_utils.to_categorical(Y_val)"
   ]
  },
  {
   "cell_type": "markdown",
   "metadata": {
    "id": "2nX-CTMAVhFP"
   },
   "source": [
    "#### Saving all the data created as .npy files to later process faster and save computational power"
   ]
  },
  {
   "cell_type": "code",
   "execution_count": null,
   "metadata": {
    "id": "kBwHvJh8VhFP"
   },
   "outputs": [],
   "source": [
    "np.save('X_train',X_train,allow_pickle=False,fix_imports=False) \n",
    "np.save('X_test',X_test,allow_pickle=False,fix_imports=False) \n",
    "np.save('Y_train',Y_train,allow_pickle=False,fix_imports=False) \n",
    "np.save('Y_test',Y_test,allow_pickle=False,fix_imports=False) \n",
    "np.save('X_val',X_val,allow_pickle=False,fix_imports=False) \n",
    "np.save('Y_val',Y_val,allow_pickle=False,fix_imports=False) "
   ]
  },
  {
   "cell_type": "markdown",
   "metadata": {
    "id": "utvc3qKjVhFP"
   },
   "source": [
    "# Code May Now Start From Here Directly"
   ]
  },
  {
   "cell_type": "markdown",
   "metadata": {
    "id": "sHJv6s9DVhFP"
   },
   "source": [
    "#### Loading the saved .npy files"
   ]
  },
  {
   "cell_type": "code",
   "execution_count": 3,
   "metadata": {
    "id": "sdX8J95PVhFP"
   },
   "outputs": [],
   "source": [
    "X_train = np.load('/content/drive/MyDrive/Best Model 2/X_train.npy', mmap_mode='r')\n",
    "X_test = np.load('/content/drive/MyDrive/Best Model 2/X_test.npy', mmap_mode='r')\n",
    "X_val = np.load('/content/drive/MyDrive/Best Model 2/X_val.npy', mmap_mode='r')\n",
    "Y_test = np.load('/content/drive/MyDrive/Best Model 2/Y_test.npy', mmap_mode='r')\n",
    "Y_train = np.load('/content/drive/MyDrive/Best Model 2/Y_train.npy', mmap_mode='r')\n",
    "Y_val = np.load('/content/drive/MyDrive/Best Model 2/Y_val.npy', mmap_mode='r')"
   ]
  },
  {
   "cell_type": "markdown",
   "metadata": {
    "id": "EGfnsbC2VhFP"
   },
   "source": [
    "#### Reshuffle the data if needed"
   ]
  },
  {
   "cell_type": "code",
   "execution_count": null,
   "metadata": {
    "id": "T3wONOfaVhFP"
   },
   "outputs": [],
   "source": [
    "X_train,Y_train,X_test,Y_test,X_val,Y_val=Reshuffle(X_train,Y_train,X_test,Y_test,X_val,Y_val)"
   ]
  },
  {
   "cell_type": "markdown",
   "metadata": {
    "id": "EOPvAuu3VhFQ"
   },
   "source": [
    "***\n",
    "\n",
    "# CNN Model Create\n",
    "\n",
    "***"
   ]
  },
  {
   "cell_type": "code",
   "execution_count": 6,
   "metadata": {
    "colab": {
     "base_uri": "https://localhost:8080/"
    },
    "id": "GGtejklLVhFQ",
    "outputId": "faa61416-ca59-4679-a2a4-70ef231b208b"
   },
   "outputs": [
    {
     "name": "stdout",
     "output_type": "stream",
     "text": [
      "Model: \"sequential_1\"\n",
      "_________________________________________________________________\n",
      "Layer (type)                 Output Shape              Param #   \n",
      "=================================================================\n",
      "conv2d_3 (Conv2D)            (None, 300, 300, 128)     3584      \n",
      "_________________________________________________________________\n",
      "module_wrapper_3 (ModuleWrap (None, 150, 150, 128)     0         \n",
      "_________________________________________________________________\n",
      "conv2d_4 (Conv2D)            (None, 75, 75, 256)       295168    \n",
      "_________________________________________________________________\n",
      "module_wrapper_4 (ModuleWrap (None, 38, 38, 256)       0         \n",
      "_________________________________________________________________\n",
      "conv2d_5 (Conv2D)            (None, 19, 19, 512)       1180160   \n",
      "_________________________________________________________________\n",
      "module_wrapper_5 (ModuleWrap (None, 9, 9, 512)         0         \n",
      "_________________________________________________________________\n",
      "dropout_2 (Dropout)          (None, 9, 9, 512)         0         \n",
      "_________________________________________________________________\n",
      "flatten_1 (Flatten)          (None, 41472)             0         \n",
      "_________________________________________________________________\n",
      "dense_2 (Dense)              (None, 512)               21234176  \n",
      "_________________________________________________________________\n",
      "activation_1 (Activation)    (None, 512)               0         \n",
      "_________________________________________________________________\n",
      "dropout_3 (Dropout)          (None, 512)               0         \n",
      "_________________________________________________________________\n",
      "dense_3 (Dense)              (None, 11)                5643      \n",
      "=================================================================\n",
      "Total params: 22,718,731\n",
      "Trainable params: 22,718,731\n",
      "Non-trainable params: 0\n",
      "_________________________________________________________________\n"
     ]
    }
   ],
   "source": [
    "model = Sequential()\n",
    "\n",
    "# 1st conv block\n",
    "model.add(Conv2D(128,  (3, 3), padding =\"same\", input_shape=(300, 300, 3)))\n",
    "model.add(MaxPool2D(pool_size=(2, 2), padding='same'))\n",
    "# 2nd conv block\n",
    "model.add(Conv2D(256, (3, 3), activation='relu', strides=(2, 2), padding='same'))\n",
    "model.add(MaxPool2D(pool_size=(2, 2), padding='same'))\n",
    "# 3rd conv block\n",
    "model.add(Conv2D(512, (3, 3), activation='relu', strides=(2, 2), padding='same'))\n",
    "model.add(MaxPool2D(pool_size=(2, 2), padding='valid'))\n",
    "\n",
    "model.add(Dropout(0.2))\n",
    "\n",
    "\n",
    "# ANN block\n",
    "model.add(Flatten())\n",
    "model.add(Dense(512))\n",
    "model.add(Activation(\"relu\"))\n",
    "model.add(Dropout(0.2))\n",
    "\n",
    "# Output Layer\n",
    "model.add(Dense(11, activation='softmax'))\n",
    "\n",
    "model.compile(loss='categorical_crossentropy',optimizer=optimizers.Adam(learning_rate=0.001),metrics=['accuracy'])\n",
    "model.summary()"
   ]
  },
  {
   "cell_type": "code",
   "execution_count": 7,
   "metadata": {
    "colab": {
     "base_uri": "https://localhost:8080/"
    },
    "id": "qn_zoegBVhFQ",
    "outputId": "b3f75ad7-d4c2-474f-a16f-324fa397c6bd"
   },
   "outputs": [
    {
     "name": "stdout",
     "output_type": "stream",
     "text": [
      "Epoch 1/20\n",
      "61/61 [==============================] - 89s 1s/step - loss: 2.3968 - accuracy: 0.2760 - val_loss: 0.9223 - val_accuracy: 0.7066\n",
      "Epoch 2/20\n",
      "61/61 [==============================] - 58s 948ms/step - loss: 0.8196 - accuracy: 0.7403 - val_loss: 0.6512 - val_accuracy: 0.7834\n",
      "Epoch 3/20\n",
      "61/61 [==============================] - 58s 949ms/step - loss: 0.4618 - accuracy: 0.8552 - val_loss: 0.4615 - val_accuracy: 0.8464\n",
      "Epoch 4/20\n",
      "61/61 [==============================] - 58s 947ms/step - loss: 0.2181 - accuracy: 0.9252 - val_loss: 0.4375 - val_accuracy: 0.8710\n",
      "Epoch 5/20\n",
      "61/61 [==============================] - 58s 949ms/step - loss: 0.1721 - accuracy: 0.9358 - val_loss: 0.3468 - val_accuracy: 0.9017\n",
      "Epoch 6/20\n",
      "61/61 [==============================] - 58s 947ms/step - loss: 0.0944 - accuracy: 0.9674 - val_loss: 0.4468 - val_accuracy: 0.8955\n",
      "Epoch 7/20\n",
      "61/61 [==============================] - 58s 946ms/step - loss: 0.1181 - accuracy: 0.9629 - val_loss: 0.4343 - val_accuracy: 0.8725\n",
      "Epoch 8/20\n",
      "61/61 [==============================] - 58s 947ms/step - loss: 0.0631 - accuracy: 0.9850 - val_loss: 0.3213 - val_accuracy: 0.9201\n",
      "Epoch 9/20\n",
      "61/61 [==============================] - 58s 948ms/step - loss: 0.0119 - accuracy: 0.9997 - val_loss: 0.3194 - val_accuracy: 0.9232\n",
      "Epoch 10/20\n",
      "61/61 [==============================] - 58s 949ms/step - loss: 0.0095 - accuracy: 0.9988 - val_loss: 0.3172 - val_accuracy: 0.9247\n",
      "Epoch 11/20\n",
      "61/61 [==============================] - 58s 949ms/step - loss: 0.0062 - accuracy: 0.9995 - val_loss: 0.3237 - val_accuracy: 0.9293\n",
      "Epoch 12/20\n",
      "61/61 [==============================] - 58s 949ms/step - loss: 0.0061 - accuracy: 0.9991 - val_loss: 0.3338 - val_accuracy: 0.9324\n",
      "Epoch 13/20\n",
      "61/61 [==============================] - 58s 959ms/step - loss: 0.0043 - accuracy: 0.9997 - val_loss: 0.3302 - val_accuracy: 0.9232\n",
      "Epoch 14/20\n",
      "61/61 [==============================] - 58s 950ms/step - loss: 0.0036 - accuracy: 0.9995 - val_loss: 0.3315 - val_accuracy: 0.9293\n",
      "Epoch 15/20\n",
      "61/61 [==============================] - 58s 952ms/step - loss: 0.0026 - accuracy: 1.0000 - val_loss: 0.3567 - val_accuracy: 0.9293\n",
      "Epoch 16/20\n",
      "61/61 [==============================] - 58s 951ms/step - loss: 0.0034 - accuracy: 0.9992 - val_loss: 0.3584 - val_accuracy: 0.9293\n",
      "Epoch 17/20\n",
      "61/61 [==============================] - 58s 949ms/step - loss: 0.0046 - accuracy: 0.9987 - val_loss: 0.3696 - val_accuracy: 0.9247\n",
      "Epoch 18/20\n",
      "61/61 [==============================] - 58s 949ms/step - loss: 0.0029 - accuracy: 0.9992 - val_loss: 0.3340 - val_accuracy: 0.9309\n",
      "Epoch 19/20\n",
      "61/61 [==============================] - 58s 950ms/step - loss: 0.0018 - accuracy: 1.0000 - val_loss: 0.3468 - val_accuracy: 0.9278\n",
      "Epoch 20/20\n",
      "61/61 [==============================] - 58s 949ms/step - loss: 0.0024 - accuracy: 1.0000 - val_loss: 0.3527 - val_accuracy: 0.9293\n",
      "Accuracy: 94.62%\n"
     ]
    }
   ],
   "source": [
    "# Fit the model\n",
    "reduce_lr = ReduceLROnPlateau(monitor='val_loss', factor=0.2,patience=2, min_lr=0.0001)\n",
    "hist = model.fit(X_train, Y_train, validation_data=(X_val, Y_val), epochs=20, batch_size=50,callbacks=reduce_lr)\n",
    "# Final evaluation of the model\n",
    "scores = model.evaluate(X_test, Y_test, verbose=0)\n",
    "print(\"Accuracy: %.2f%%\" % (scores[1]*100))"
   ]
  },
  {
   "cell_type": "markdown",
   "metadata": {
    "id": "dcqJiHdgVhFQ"
   },
   "source": [
    "##### Save 2 graphs for Cross Entropy Loss and for Classification Accuracy"
   ]
  },
  {
   "cell_type": "code",
   "execution_count": 15,
   "metadata": {
    "colab": {
     "base_uri": "https://localhost:8080/",
     "height": 281
    },
    "id": "t8kFPkqTVhFQ",
    "outputId": "ceb73e18-67c5-4460-dba4-cf1e453677bf"
   },
   "outputs": [
    {
     "data": {
      "image/png": "[encoded data removed]",
      "text/plain": [
       "<Figure size 432x288 with 2 Axes>"
      ]
     },
     "metadata": {
      "needs_background": "light",
      "tags": []
     },
     "output_type": "display_data"
    }
   ],
   "source": [
    "Graph_diagnostics(hist)"
   ]
  },
  {
   "cell_type": "markdown",
   "metadata": {
    "id": "QRpMiqUyVhFQ"
   },
   "source": [
    "#### Predict and show Image"
   ]
  },
  {
   "cell_type": "code",
   "execution_count": 58,
   "metadata": {
    "colab": {
     "base_uri": "https://localhost:8080/",
     "height": 286
    },
    "id": "Kw8T1p3rVhFR",
    "outputId": "22fa05de-3f95-477c-b09b-6ad737a559e9"
   },
   "outputs": [
    {
     "name": "stdout",
     "output_type": "stream",
     "text": [
      "Brain\n"
     ]
    },
    {
     "data": {
      "image/png": "[encoded data removed]",
      "text/plain": [
       "<Figure size 432x288 with 1 Axes>"
      ]
     },
     "metadata": {
      "needs_background": "light",
      "tags": []
     },
     "output_type": "display_data"
    }
   ],
   "source": [
    "Analyse_and_Predict(X_test[60])"
   ]
  },
  {
   "cell_type": "markdown",
   "metadata": {
    "id": "0kjxHKRfVhFR"
   },
   "source": [
    "#### Print Statistics ( Accuracy,Precision,Recall,F1,MSE,MAE)"
   ]
  },
  {
   "cell_type": "code",
   "execution_count": 23,
   "metadata": {
    "colab": {
     "base_uri": "https://localhost:8080/"
    },
    "id": "bwCg8TRZVhFR",
    "outputId": "cb2ec2cf-a387-481f-934b-b7184785775f"
   },
   "outputs": [
    {
     "name": "stdout",
     "output_type": "stream",
     "text": [
      "Classification Accuracy Score:  0.9461538461538461\n",
      "---\n",
      "Recall of Bonsai: 0.9571428571428572\n",
      "Recall of Brain: 0.9666666666666667\n",
      "Recall of Butterfly: 0.9318181818181818\n",
      "Recall of Chandelier: 0.9696969696969697\n",
      "Recall of Grand Piano: 0.9803921568627451\n",
      "Recall of Hawks Bill: 0.9272727272727272\n",
      "Recall of Helicopter: 0.88\n",
      "Recall of Ketch: 0.987012987012987\n",
      "Recall of Leaopards: 1.0\n",
      "Recall of Starfish: 0.9310344827586207\n",
      "Recall of Watch: 0.847457627118644\n",
      "---\n",
      "Precison of Bonsai: 0.9571428571428572\n",
      "Precison of Brain: 0.9206349206349206\n",
      "Precison of Butterfly: 0.8913043478260869\n",
      "Precison of Chandelier: 0.8888888888888888\n",
      "Precison of Grand Piano: 1.0\n",
      "Precison of Hawks Bill: 0.9444444444444444\n",
      "Precison of Helicopter: 0.9361702127659575\n",
      "Precison of Ketch: 0.9743589743589743\n",
      "Precison of Leaopards: 0.967741935483871\n",
      "Precison of Starfish: 0.9473684210526315\n",
      "Precison of Watch: 0.9803921568627451\n",
      "---\n",
      "F1 of Bonsai: 0.9571428571428572\n",
      "F1 of Brain: 0.943089430894309\n",
      "F1 of Butterfly: 0.9111111111111111\n",
      "F1 of Chandelier: 0.927536231884058\n",
      "F1 of Grand Piano: 0.99009900990099\n",
      "F1 of Hawks Bill: 0.9357798165137615\n",
      "F1 of Helicopter: 0.9072164948453608\n",
      "F1 of Ketch: 0.9806451612903225\n",
      "F1 of Leaopards: 0.9836065573770492\n",
      "F1 of Starfish: 0.9391304347826087\n",
      "F1 of Watch: 0.909090909090909\n",
      "---\n",
      "Mean_Squared_Error: 1.7230769230769232\n",
      "---\n",
      "Mean_Absolute_Error:  0.26461538461538464\n",
      "---\n",
      "Accuracy of Bonsai: 0.9907692307692307\n",
      "Accuracy of Brain: 0.9892307692307692\n",
      "Accuracy of Butterfly: 0.9876923076923076\n",
      "Accuracy of Chandelier: 0.9846153846153847\n",
      "Accuracy of Grand Piano: 0.9984615384615385\n",
      "Accuracy of Hawks Bill: 0.9892307692307692\n",
      "Accuracy of Helicopter: 0.9861538461538462\n",
      "Accuracy of Ketch: 0.9953846153846154\n",
      "Accuracy of Leaopards: 0.9969230769230769\n",
      "Accuracy of Starfish: 0.9892307692307692\n",
      "Accuracy of Watch: 0.9846153846153847\n",
      "---\n"
     ]
    }
   ],
   "source": [
    "y_pred=model.predict(X_test)\n",
    "Y_test_ = np.argmax(Y_test, axis = 1)\n",
    "y_pred=np.argmax(y_pred, axis = 1)\n",
    "Statistics(Y_test_,y_pred)"
   ]
  },
  {
   "cell_type": "markdown",
   "metadata": {
    "id": "OU3lolINVhFR"
   },
   "source": [
    "# AlexnetModel"
   ]
  },
  {
   "cell_type": "code",
   "execution_count": 73,
   "metadata": {
    "id": "Y4Ls7Gn3VhFR"
   },
   "outputs": [],
   "source": [
    "def AlexnetModel(input_shape,num_classes):\n",
    "    \n",
    "    model = Sequential()\n",
    "    model.add(Conv2D(filters=96,kernel_size=(3,3),strides=(4,4),input_shape=input_shape, activation='relu'))\n",
    "    model.add(MaxPooling2D(pool_size=(2,2),strides=(2,2)))\n",
    "    model.add(Conv2D(256,(5,5),padding='same',activation='relu'))\n",
    "    model.add(MaxPooling2D(pool_size=(2,2),strides=(2,2)))\n",
    "    model.add(Conv2D(384,(3,3),padding='same',activation='relu'))\n",
    "    model.add(Conv2D(384,(3,3),padding='same',activation='relu'))\n",
    "    model.add(Conv2D(256,(3,3),padding='same',activation='relu'))\n",
    "    model.add(MaxPooling2D(pool_size=(2,2),strides=(2,2)))\n",
    "\n",
    "    model.add(Flatten())\n",
    "    model.add(Dense(4096, activation='relu'))\n",
    "    model.add(Dropout(0.4))\n",
    "    model.add(Dense(4096, activation='relu'))\n",
    "    model.add(Dropout(0.4))\n",
    "    model.add(Dense(num_classes,activation='softmax'))\n",
    "    \n",
    "    return model"
   ]
  },
  {
   "cell_type": "code",
   "execution_count": null,
   "metadata": {
    "id": "6ubCkytTVhFR"
   },
   "outputs": [],
   "source": [
    "AlexModel = AlexnetModel((300,300,3),11)\n",
    "optimizer = SGD(lr=0.001)\n",
    "AlexModel.compile(loss= 'categorical_crossentropy' , optimizer=optimizer, metrics=[ 'accuracy' ])\n",
    "print(\"Model Summary of \",\"Alex\")\n",
    "print(AlexModel.summary())\n",
    "# Fit the model\n",
    "hist = AlexModel.fit(X_train, Y_train, validation_data=(X_val, Y_val),validation_freq=1 ,epochs=50, batch_size=32)\n",
    "# Final evaluation of the model\n",
    "scores = AlexModel.evaluate(X_test, Y_test)\n",
    "print(\"Accuracy: %.2f%%\" % (scores[1]*100))"
   ]
  },
  {
   "cell_type": "code",
   "execution_count": 83,
   "metadata": {
    "colab": {
     "base_uri": "https://localhost:8080/"
    },
    "id": "6Xjm1pKuv4DY",
    "outputId": "bc0d7117-4673-4ea7-a8d9-8cc1b0622fde"
   },
   "outputs": [
    {
     "name": "stdout",
     "output_type": "stream",
     "text": [
      "Classification Accuracy Score:  0.9707692307692307\n",
      "---\n",
      "Recall of Bonsai: 0.9714285714285714\n",
      "Recall of Brain: 1.0\n",
      "Recall of Butterfly: 0.9318181818181818\n",
      "Recall of Chandelier: 0.9393939393939394\n",
      "Recall of Grand Piano: 1.0\n",
      "Recall of Hawks Bill: 0.9272727272727272\n",
      "Recall of Helicopter: 0.96\n",
      "Recall of Ketch: 0.974025974025974\n",
      "Recall of Leaopards: 1.0\n",
      "Recall of Starfish: 1.0\n",
      "Recall of Watch: 0.9661016949152542\n",
      "---\n",
      "Precison of Bonsai: 0.9577464788732394\n",
      "Precison of Brain: 0.967741935483871\n",
      "Precison of Butterfly: 0.9761904761904762\n",
      "Precison of Chandelier: 0.96875\n",
      "Precison of Grand Piano: 1.0\n",
      "Precison of Hawks Bill: 0.9444444444444444\n",
      "Precison of Helicopter: 0.9795918367346939\n",
      "Precison of Ketch: 1.0\n",
      "Precison of Leaopards: 0.9836065573770492\n",
      "Precison of Starfish: 0.9508196721311475\n",
      "Precison of Watch: 0.95\n",
      "---\n",
      "F1 of Bonsai: 0.9645390070921985\n",
      "F1 of Brain: 0.9836065573770492\n",
      "F1 of Butterfly: 0.9534883720930233\n",
      "F1 of Chandelier: 0.9538461538461539\n",
      "F1 of Grand Piano: 1.0\n",
      "F1 of Hawks Bill: 0.9357798165137615\n",
      "F1 of Helicopter: 0.9696969696969697\n",
      "F1 of Ketch: 0.9868421052631579\n",
      "F1 of Leaopards: 0.9917355371900827\n",
      "F1 of Starfish: 0.9747899159663865\n",
      "F1 of Watch: 0.957983193277311\n",
      "---\n",
      "Mean_Squared_Error: 0.6092307692307692\n",
      "---\n",
      "Mean_Absolute_Error:  0.12\n",
      "---\n",
      "Accuracy of Bonsai: 0.9923076923076923\n",
      "Accuracy of Brain: 0.9969230769230769\n",
      "Accuracy of Butterfly: 0.9938461538461538\n",
      "Accuracy of Chandelier: 0.9907692307692307\n",
      "Accuracy of Grand Piano: 1.0\n",
      "Accuracy of Hawks Bill: 0.9892307692307692\n",
      "Accuracy of Helicopter: 0.9953846153846154\n",
      "Accuracy of Ketch: 0.9969230769230769\n",
      "Accuracy of Leaopards: 0.9984615384615385\n",
      "Accuracy of Starfish: 0.9953846153846154\n",
      "Accuracy of Watch: 0.9923076923076923\n",
      "---\n"
     ]
    }
   ],
   "source": [
    "y_pred=AlexModel.predict(X_test)\n",
    "Y_test_ = np.argmax(Y_test, axis = 1)\n",
    "y_pred=np.argmax(y_pred, axis = 1)\n",
    "Statistics(Y_test_,y_pred)"
   ]
  },
  {
   "cell_type": "markdown",
   "metadata": {
    "id": "6jOqKCqEVhFR"
   },
   "source": [
    "#### Save The Models"
   ]
  },
  {
   "cell_type": "code",
   "execution_count": null,
   "metadata": {
    "id": "NS-AWSTzVhFS"
   },
   "outputs": [],
   "source": [
    "model.save('Model')\n",
    "AlexModel.save('AlexNet_Model')"
   ]
  }
 ],
 "metadata": {
  "accelerator": "GPU",
  "colab": {
   "collapsed_sections": [],
   "name": "Cleaned - Copy.ipynb",
   "provenance": []
  },
  "kernelspec": {
   "display_name": "Python 3",
   "language": "python",
   "name": "python3"
  },
  "language_info": {
   "codemirror_mode": {
    "name": "ipython",
    "version": 3
   },
   "file_extension": ".py",
   "mimetype": "text/x-python",
   "name": "python",
   "nbconvert_exporter": "python",
   "pygments_lexer": "ipython3",
   "version": "3.8.3"
  }
 },
 "nbformat": 4,
 "nbformat_minor": 1
}
